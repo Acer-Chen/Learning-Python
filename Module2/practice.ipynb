{
 "cells": [
  {
   "cell_type": "markdown",
   "metadata": {},
   "source": [
    "百貨公司周年慶 消費金額超過 2000 要折 200  \n",
    "\n",
    "請撰寫一支程式  \n",
    "計算客戶消費的結帳金額"
   ]
  },
  {
   "cell_type": "code",
   "execution_count": 2,
   "metadata": {},
   "outputs": [
    {
     "name": "stdout",
     "output_type": "stream",
     "text": [
      "結帳金額為2300\n"
     ]
    }
   ],
   "source": [
    "total = 2500\n",
    "discount = 200\n",
    "if (total > 2000):\n",
    "    total -= 200\n",
    "print(f\"結帳金額為{total}\")"
   ]
  },
  {
   "cell_type": "code",
   "execution_count": 9,
   "metadata": {},
   "outputs": [
    {
     "name": "stdout",
     "output_type": "stream",
     "text": [
      "結帳金額為4600\n"
     ]
    }
   ],
   "source": [
    "total = int (input(\"請輸入結帳金額：\"))\n",
    "discount = 200\n",
    "count = 0\n",
    "if(total < 0):\n",
    "    print(\"請輸入有效金額\")\n",
    "else:\n",
    "    count = total // 2000\n",
    "    total -= discount * count\n",
    "print(f\"結帳金額為{total}\")"
   ]
  },
  {
   "cell_type": "code",
   "execution_count": null,
   "metadata": {},
   "outputs": [],
   "source": []
  }
 ],
 "metadata": {
  "kernelspec": {
   "display_name": "Python 3",
   "language": "python",
   "name": "python3"
  },
  "language_info": {
   "codemirror_mode": {
    "name": "ipython",
    "version": 3
   },
   "file_extension": ".py",
   "mimetype": "text/x-python",
   "name": "python",
   "nbconvert_exporter": "python",
   "pygments_lexer": "ipython3",
   "version": "3.13.0"
  }
 },
 "nbformat": 4,
 "nbformat_minor": 2
}
