{
 "cells": [
  {
   "cell_type": "code",
   "execution_count": 1,
   "metadata": {},
   "outputs": [
    {
     "name": "stdout",
     "output_type": "stream",
     "text": [
      "{'apple': 30, 'banana': 10, 'orange': 20}\n"
     ]
    }
   ],
   "source": [
    "# 初始化 dict\n",
    "friut_price_dict = {\"apple\": 30, \"banana\": 10, \"orange\": 20}\n",
    "print(friut_price_dict)"
   ]
  },
  {
   "cell_type": "code",
   "execution_count": 2,
   "metadata": {},
   "outputs": [
    {
     "name": "stdout",
     "output_type": "stream",
     "text": [
      "30\n"
     ]
    }
   ],
   "source": [
    "# 印出 蘋果的價格\n",
    "print(friut_price_dict[\"apple\"])\n"
   ]
  },
  {
   "cell_type": "code",
   "execution_count": 3,
   "metadata": {},
   "outputs": [
    {
     "name": "stdout",
     "output_type": "stream",
     "text": [
      "40\n"
     ]
    }
   ],
   "source": [
    "# 修改 橘子的價格\n",
    "friut_price_dict[\"orange\"] = 40\n",
    "print(friut_price_dict[\"orange\"])\n"
   ]
  },
  {
   "cell_type": "code",
   "execution_count": 7,
   "metadata": {},
   "outputs": [
    {
     "name": "stdout",
     "output_type": "stream",
     "text": [
      "{'apple': 30, 'orange': 40}\n"
     ]
    }
   ],
   "source": [
    "# 刪除 番茄\n",
    "del friut_price_dict[\"banana\"]\n",
    "print(friut_price_dict)"
   ]
  },
  {
   "cell_type": "code",
   "execution_count": 12,
   "metadata": {},
   "outputs": [
    {
     "name": "stdout",
     "output_type": "stream",
     "text": [
      "{'name': 'Acer', 'sex': 'male', 'phone': ['0911111111', '0922222222'], 'info': {'nickname': 'Tea', 'liveplace': 'Teipei'}}\n",
      "{'info': {'liveplace': 'Teipei', 'nickname': 'Tea'},\n",
      " 'name': 'Acer',\n",
      " 'phone': ['0911111111', '0922222222'],\n",
      " 'sex': 'male'}\n"
     ]
    }
   ],
   "source": [
    "# 建立一個 value 含有 dict 的 dict\n",
    "person_info = {\n",
    "    \"name\": \"Acer\",\n",
    "    \"sex\": \"male\", \n",
    "    \"phone\": [\"0911111111\",\"0922222222\"],\n",
    "    \"info\": {\n",
    "        \"nickname\": \"Tea\",\n",
    "        \"liveplace\": \"Teipei\"\n",
    "    }\n",
    "}\n",
    "print(person_info)\n",
    "from pprint import pprint\n",
    "pprint(person_info)"
   ]
  },
  {
   "cell_type": "code",
   "execution_count": 14,
   "metadata": {},
   "outputs": [
    {
     "name": "stdout",
     "output_type": "stream",
     "text": [
      "Tea\n"
     ]
    }
   ],
   "source": [
    "# 取得 nickname\n",
    "print(person_info[\"info\"][\"nickname\"])\n"
   ]
  },
  {
   "cell_type": "code",
   "execution_count": 15,
   "metadata": {},
   "outputs": [
    {
     "name": "stdout",
     "output_type": "stream",
     "text": [
      "0911111111\n",
      "0922222222\n"
     ]
    }
   ],
   "source": [
    "# 取得所有 phone_number\n",
    "for i in person_info[\"phone\"]:\n",
    "    print(i)\n"
   ]
  },
  {
   "cell_type": "markdown",
   "metadata": {},
   "source": [
    "---"
   ]
  },
  {
   "cell_type": "code",
   "execution_count": 18,
   "metadata": {},
   "outputs": [
    {
     "name": "stdout",
     "output_type": "stream",
     "text": [
      "{'apple': {'amount': 10, 'color': ('red', 'green'), 'price': 30}, 'orange': 40}\n",
      "{'banana': {'amount': 100, 'color': 'yellow', 'price': 10},\n",
      " 'orange': {'amount': 1000, 'color': 'orange', 'price': 50}}\n",
      "{'apple': {'amount': 10, 'color': ('red', 'green'), 'price': 30},\n",
      " 'banana': {'amount': 100, 'color': 'yellow', 'price': 10},\n",
      " 'orange': {'amount': 1000, 'color': 'orange', 'price': 50}}\n"
     ]
    }
   ],
   "source": [
    "'''\n",
    "改寫 fruit_dict 每個水果需要 price, quantity/amount, color\n",
    "apple 有 綠色 和 紅色\n",
    "orange 有 橘色\n",
    "tomato 有 紅色\n",
    "'''\n",
    "\n",
    "friut_price_dict[\"apple\"]={\n",
    "    \"price\": 30,\n",
    "    \"amount\": 10,\n",
    "    \"color\": (\"red\", \"green\")\n",
    "    }\n",
    "pprint(friut_price_dict)\n",
    "\n",
    "friut_price_dict1={\n",
    "    \"orange\":{\n",
    "        \"price\": 50,\n",
    "        \"amount\": 1000,\n",
    "        \"color\": (\"orange\")\n",
    "    },\n",
    "    \"banana\":{\n",
    "        \"price\": 10,\n",
    "        \"amount\": 100,\n",
    "        \"color\": (\"yellow\")\n",
    "    }\n",
    "}\n",
    "pprint(friut_price_dict1)\n",
    "\n",
    "friut_price_dict.update(friut_price_dict1)\n",
    "pprint(friut_price_dict)"
   ]
  },
  {
   "cell_type": "markdown",
   "metadata": {},
   "source": [
    "##### dict 的合併"
   ]
  },
  {
   "cell_type": "code",
   "execution_count": null,
   "metadata": {},
   "outputs": [],
   "source": [
    "# dict 的合併"
   ]
  },
  {
   "cell_type": "markdown",
   "metadata": {},
   "source": [
    "##### 另外的 print 方式 `pprint` (pretty-print) "
   ]
  },
  {
   "cell_type": "code",
   "execution_count": 2,
   "metadata": {},
   "outputs": [],
   "source": [
    "# 從 Module 引入 function\n"
   ]
  },
  {
   "cell_type": "code",
   "execution_count": null,
   "metadata": {},
   "outputs": [],
   "source": [
    "'''\n",
    "新增顏色\n",
    "apple 有新的品種 顏色要有黃色\n",
    "tomato 有綠色\n",
    "'''"
   ]
  }
 ],
 "metadata": {
  "kernelspec": {
   "display_name": "Python 3",
   "language": "python",
   "name": "python3"
  },
  "language_info": {
   "codemirror_mode": {
    "name": "ipython",
    "version": 3
   },
   "file_extension": ".py",
   "mimetype": "text/x-python",
   "name": "python",
   "nbconvert_exporter": "python",
   "pygments_lexer": "ipython3",
   "version": "3.13.0"
  }
 },
 "nbformat": 4,
 "nbformat_minor": 2
}
