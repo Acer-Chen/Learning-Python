{
 "cells": [
  {
   "cell_type": "markdown",
   "metadata": {},
   "source": [
    "|型態| 創建方式 | 可不可變 | 有序/無序 |\n",
    "|:---:|:---:|:---:|:---:|\n",
    "|str|name=\"Acer\"|X|V|\n",
    "|list| | | |\n",
    "|dict| | | |\n",
    "|tuple| | | |\n",
    "|set| | | |"
   ]
  },
  {
   "cell_type": "markdown",
   "metadata": {},
   "source": [
    "## String 常用的method"
   ]
  },
  {
   "cell_type": "code",
   "execution_count": null,
   "metadata": {},
   "outputs": [],
   "source": [
    "# 非修改，為重新賦予值\n",
    "# string.split() 分割字元，預設為空白\n",
    "# string.replace(str1, str2) 替換字元\n",
    "# string.strip() 去除某個字元，預設為空白\n",
    "# string.upper() 改為全大寫\n",
    "# string.lower() 改為全小寫\n",
    "# string.split[0].upper + string.split[1:] 將字串內的每個單字首字皆設為大寫，其餘為小寫"
   ]
  },
  {
   "cell_type": "markdown",
   "metadata": {},
   "source": [
    "## 字串格式化"
   ]
  },
  {
   "cell_type": "code",
   "execution_count": 15,
   "metadata": {},
   "outputs": [
    {
     "name": "stdout",
     "output_type": "stream",
     "text": [
      "[Hello     ]\n",
      "[  12.346]\n",
      "[Hel]\n",
      "[000003.14]\n"
     ]
    }
   ],
   "source": [
    "# 靠左對齊(預設10個字元長度)\n",
    "msg=\"[%-10s]\" % \"Hello\"\n",
    "print(msg)\n",
    "# 指定浮點數位數\n",
    "msg=\"[%8.3f]\" % 12.3456\n",
    "print(msg)\n",
    "# 指定文字長度上限\n",
    "msg=\"[%.3s]\" % \"Hello\"\n",
    "print(msg)\n",
    "# 空白補0 [%ca.bf] aa=>總共顯示的位數，從小數點往左數(包含小數點[.])(05=03.14) b=>小數點後的顯示位數  c=>固定為0 f=>固定為f\n",
    "msg=\"[%09.2f]\" % 3.1415926\n",
    "print(msg)"
   ]
  },
  {
   "cell_type": "code",
   "execution_count": null,
   "metadata": {},
   "outputs": [],
   "source": []
  }
 ],
 "metadata": {
  "kernelspec": {
   "display_name": "Python 3",
   "language": "python",
   "name": "python3"
  },
  "language_info": {
   "codemirror_mode": {
    "name": "ipython",
    "version": 3
   },
   "file_extension": ".py",
   "mimetype": "text/x-python",
   "name": "python",
   "nbconvert_exporter": "python",
   "pygments_lexer": "ipython3",
   "version": "3.13.0"
  }
 },
 "nbformat": 4,
 "nbformat_minor": 2
}
