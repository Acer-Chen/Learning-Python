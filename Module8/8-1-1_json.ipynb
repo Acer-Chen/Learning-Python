{
 "cells": [
  {
   "cell_type": "markdown",
   "metadata": {},
   "source": [
    "### `json` 套件"
   ]
  },
  {
   "cell_type": "markdown",
   "metadata": {},
   "source": [
    "| 用法 | 說明 |\n",
    "|:--:|:--:|\n",
    "|`json.dump(<obj>, <file>, [ensure_ascii=False, indent=<num>]`)|物件轉JSON並寫入文件|\n",
    "|`json.dumps()`|物件轉JSON字串|\n",
    "|`json.load()`|讀取JSON文件|\n",
    "|`json.loads()`|將JSON字串轉成Python物件|"
   ]
  },
  {
   "cell_type": "code",
   "execution_count": null,
   "metadata": {},
   "outputs": [],
   "source": []
  }
 ],
 "metadata": {
  "language_info": {
   "name": "python"
  }
 },
 "nbformat": 4,
 "nbformat_minor": 2
}
