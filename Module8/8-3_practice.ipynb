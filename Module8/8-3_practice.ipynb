{
 "cells": [
  {
   "cell_type": "markdown",
   "metadata": {},
   "source": [
    "##### 將 data.txt 的資料分類成另外三個檔案，分別為 cc.txt 、 css.txt 、 c.txt  "
   ]
  },
  {
   "cell_type": "code",
   "execution_count": 21,
   "metadata": {},
   "outputs": [],
   "source": [
    "list1 = []\n",
    "with open (file=\"./data.txt\",mode=\"r\",encoding=\"UTF-8\") as f:\n",
    "    # file_read = f.read()\n",
    "    # if \"css\" in file_read :\n",
    "    #     print(file_read)\n",
    "    for line in f:\n",
    "        if \"css\" in line:\n",
    "            list1.append(line)\n",
    "with open(file=\"./css.txt\",mode=\"a\",encoding=\"UTF-8\") as css:\n",
    "    for line in list1:\n",
    "        css.write(line)\n",
    "\n",
    "list2 = []\n",
    "with open (file=\"./data.txt\",mode=\"r\",encoding=\"UTF-8\") as f:\n",
    "    for line in f:\n",
    "        if \"cc\" in line:\n",
    "            list2.append(line)\n",
    "with open(file=\"./cc.txt\",mode=\"a\",encoding=\"UTF-8\") as cc:\n",
    "    for line in list2:\n",
    "        cc.write(line)\n",
    "\n",
    "list3 = []\n",
    "with open (file=\"./data.txt\",mode=\"r\",encoding=\"UTF-8\") as f:\n",
    "    for line in f:\n",
    "        if \"c\" in line:\n",
    "            list3.append(line)\n",
    "with open(file=\"./c.txt\",mode=\"a\",encoding=\"UTF-8\") as c:\n",
    "    for line in list3:\n",
    "        c.write(line)"
   ]
  },
  {
   "cell_type": "code",
   "execution_count": 24,
   "metadata": {},
   "outputs": [],
   "source": [
    "with open(file = \"./data.txt\", mode = \"r\", encoding = \"UTF-8\") as f:\n",
    "    data = f.readlines()\n",
    "\n",
    "for i in data:\n",
    "    if \"cc\" in i:\n",
    "        with open(\"cc.txt\",\"a\") as f:\n",
    "            f.write(i)\n",
    "    elif \"css\" in i :\n",
    "        with open(\"css.txt\",\"a\") as f:\n",
    "            f.write(i)\n",
    "    else:\n",
    "        with open(\"c.txt\",\"a\") as f:\n",
    "            f.write(i)\n"
   ]
  }
 ],
 "metadata": {
  "kernelspec": {
   "display_name": "Python 3",
   "language": "python",
   "name": "python3"
  },
  "language_info": {
   "codemirror_mode": {
    "name": "ipython",
    "version": 3
   },
   "file_extension": ".py",
   "mimetype": "text/x-python",
   "name": "python",
   "nbconvert_exporter": "python",
   "pygments_lexer": "ipython3",
   "version": "3.13.0"
  }
 },
 "nbformat": 4,
 "nbformat_minor": 2
}
