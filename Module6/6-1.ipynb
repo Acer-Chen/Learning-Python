{
 "cells": [
  {
   "cell_type": "code",
   "execution_count": 7,
   "metadata": {},
   "outputs": [
    {
     "name": "stdout",
     "output_type": "stream",
     "text": [
      "[  12.346]\n"
     ]
    }
   ],
   "source": [
    "# 類別名稱\n",
    "# 類別屬性 (Class Attribute)\n",
    "\n",
    "msg = '[%8.3f]' % 12.3456\n",
    "\n",
    "print(msg)"
   ]
  },
  {
   "cell_type": "code",
   "execution_count": 1,
   "metadata": {},
   "outputs": [
    {
     "name": "stdout",
     "output_type": "stream",
     "text": [
      "[{'Tables_in_my_titanic': 'full_passengers'}]\n"
     ]
    }
   ],
   "source": [
    "import pymysql\n",
    "from pprint import pprint\n",
    "import configparser as cp\n",
    "class SqlQuery:\n",
    "\n",
    "    config = cp.ConfigParser()\n",
    "    config.read('config.ini')\n",
    "\n",
    "    def __init__(self,database=None):\n",
    "        self.connection = pymysql.connect(\n",
    "        host=SqlQuery.config['DB']['host'],\n",
    "        user=SqlQuery.config['DB']['user'],\n",
    "        password=self.config['DB']['password'],\n",
    "        port=int(self.config['DB']['port']),\n",
    "        database = database,\n",
    "        cursorclass=pymysql.cursors.DictCursor\n",
    "        )\n",
    "    def show_database(self):\n",
    "        with self.connection.cursor() as cursor:\n",
    "            cursor.execute(\"SHOW DATABASES;\") \n",
    "            result = cursor.fetchall()\n",
    "        return result\n",
    "    \n",
    "    def show_table(self):\n",
    "        with self.connection.cursor() as cursor:\n",
    "            cursor.execute(\"SHOW TABLES;\") \n",
    "            result = cursor.fetchall()\n",
    "        return result\n",
    "\n",
    "database = SqlQuery().show_database()\n",
    "# pprint(database)\n",
    "\n",
    "table = SqlQuery(\"my_titanic\").show_table()\n",
    "pprint(table)\n",
    "\n",
    "\n"
   ]
  },
  {
   "cell_type": "code",
   "execution_count": null,
   "metadata": {},
   "outputs": [],
   "source": [
    "# 類別名稱\n",
    "# 類別屬性 (Class Attribute)\n",
    "\n",
    "# 方法 (Method)\n"
   ]
  }
 ],
 "metadata": {
  "kernelspec": {
   "display_name": "Python 3",
   "language": "python",
   "name": "python3"
  },
  "language_info": {
   "codemirror_mode": {
    "name": "ipython",
    "version": 3
   },
   "file_extension": ".py",
   "mimetype": "text/x-python",
   "name": "python",
   "nbconvert_exporter": "python",
   "pygments_lexer": "ipython3",
   "version": "3.13.0"
  }
 },
 "nbformat": 4,
 "nbformat_minor": 2
}
