{
 "cells": [
  {
   "cell_type": "markdown",
   "metadata": {},
   "source": [
    "##### Class 設計"
   ]
  },
  {
   "cell_type": "code",
   "execution_count": 1,
   "metadata": {},
   "outputs": [
    {
     "ename": "NameError",
     "evalue": "name 'config' is not defined",
     "output_type": "error",
     "traceback": [
      "\u001b[1;31m---------------------------------------------------------------------------\u001b[0m",
      "\u001b[1;31mNameError\u001b[0m                                 Traceback (most recent call last)",
      "Cell \u001b[1;32mIn[1], line 29\u001b[0m\n\u001b[0;32m     26\u001b[0m             result \u001b[38;5;241m=\u001b[39m cursor\u001b[38;5;241m.\u001b[39mfetchall()\n\u001b[0;32m     27\u001b[0m         \u001b[38;5;28;01mreturn\u001b[39;00m result\n\u001b[1;32m---> 29\u001b[0m database \u001b[38;5;241m=\u001b[39m \u001b[43mSqlQuery\u001b[49m\u001b[43m(\u001b[49m\u001b[43m)\u001b[49m\u001b[38;5;241m.\u001b[39mshow_database()\n\u001b[0;32m     30\u001b[0m \u001b[38;5;66;03m# pprint(database)\u001b[39;00m\n\u001b[0;32m     32\u001b[0m table \u001b[38;5;241m=\u001b[39m SqlQuery(\u001b[38;5;124m\"\u001b[39m\u001b[38;5;124mmy_titanic\u001b[39m\u001b[38;5;124m\"\u001b[39m)\u001b[38;5;241m.\u001b[39mshow_table()\n",
      "Cell \u001b[1;32mIn[1], line 10\u001b[0m, in \u001b[0;36mSqlQuery.__init__\u001b[1;34m(self, database)\u001b[0m\n\u001b[0;32m      8\u001b[0m \u001b[38;5;28;01mdef\u001b[39;00m \u001b[38;5;21m__init__\u001b[39m(\u001b[38;5;28mself\u001b[39m,database\u001b[38;5;241m=\u001b[39m\u001b[38;5;28;01mNone\u001b[39;00m):\n\u001b[0;32m      9\u001b[0m     \u001b[38;5;28mself\u001b[39m\u001b[38;5;241m.\u001b[39mconnection \u001b[38;5;241m=\u001b[39m pymysql\u001b[38;5;241m.\u001b[39mconnect(\n\u001b[1;32m---> 10\u001b[0m     host\u001b[38;5;241m=\u001b[39m\u001b[43mconfig\u001b[49m[\u001b[38;5;124m'\u001b[39m\u001b[38;5;124mDB\u001b[39m\u001b[38;5;124m'\u001b[39m][\u001b[38;5;124m'\u001b[39m\u001b[38;5;124mhost\u001b[39m\u001b[38;5;124m'\u001b[39m],\n\u001b[0;32m     11\u001b[0m     user\u001b[38;5;241m=\u001b[39mconfig[\u001b[38;5;124m'\u001b[39m\u001b[38;5;124mDB\u001b[39m\u001b[38;5;124m'\u001b[39m][\u001b[38;5;124m'\u001b[39m\u001b[38;5;124muse\u001b[39m\u001b[38;5;124m'\u001b[39m],\n\u001b[0;32m     12\u001b[0m     password\u001b[38;5;241m=\u001b[39mconfig[\u001b[38;5;124m'\u001b[39m\u001b[38;5;124mDB\u001b[39m\u001b[38;5;124m'\u001b[39m][\u001b[38;5;124m'\u001b[39m\u001b[38;5;124mpassword\u001b[39m\u001b[38;5;124m'\u001b[39m],\n\u001b[0;32m     13\u001b[0m     port\u001b[38;5;241m=\u001b[39m\u001b[38;5;28mint\u001b[39m(config[\u001b[38;5;124m'\u001b[39m\u001b[38;5;124mDB\u001b[39m\u001b[38;5;124m'\u001b[39m][\u001b[38;5;124m'\u001b[39m\u001b[38;5;124mport\u001b[39m\u001b[38;5;124m'\u001b[39m]),\n\u001b[0;32m     14\u001b[0m     database \u001b[38;5;241m=\u001b[39m database,\n\u001b[0;32m     15\u001b[0m     cursorclass\u001b[38;5;241m=\u001b[39mpymysql\u001b[38;5;241m.\u001b[39mcursors\u001b[38;5;241m.\u001b[39mDictCursor\n\u001b[0;32m     16\u001b[0m     )\n",
      "\u001b[1;31mNameError\u001b[0m: name 'config' is not defined"
     ]
    }
   ],
   "source": [
    "import pymysql\n",
    "from pprint import pprint\n",
    "import configparser as cp\n",
    "class SqlQuery:\n",
    "    config = cp.ConfigParser()\n",
    "    config.read('config.ini')\n",
    "\n",
    "    def __init__(self,database=None):\n",
    "        self.connection = pymysql.connect(\n",
    "        host=config['DB']['host'],\n",
    "        user=config['DB']['user'],\n",
    "        password=config['DB']['password'],\n",
    "        port=int(config['DB']['port']),\n",
    "        database = database,\n",
    "        cursorclass=pymysql.cursors.DictCursor\n",
    "        )\n",
    "    def show_database(self):\n",
    "        with self.connection.cursor() as cursor:\n",
    "            cursor.execute(\"SHOW DATABASES;\") \n",
    "            result = cursor.fetchall()\n",
    "        return result\n",
    "    \n",
    "    def show_table(self):\n",
    "        with self.connection.cursor() as cursor:\n",
    "            cursor.execute(\"SHOW TABLES;\") \n",
    "            result = cursor.fetchall()\n",
    "        return result\n",
    "\n",
    "database = SqlQuery().show_database()\n",
    "# pprint(database)\n",
    "\n",
    "table = SqlQuery(\"my_titanic\").show_table()\n",
    "pprint(table)\n",
    "\n",
    "\n"
   ]
  },
  {
   "cell_type": "code",
   "execution_count": null,
   "metadata": {},
   "outputs": [],
   "source": []
  },
  {
   "cell_type": "markdown",
   "metadata": {},
   "source": [
    "##### 繼承"
   ]
  },
  {
   "cell_type": "code",
   "execution_count": null,
   "metadata": {},
   "outputs": [],
   "source": []
  }
 ],
 "metadata": {
  "kernelspec": {
   "display_name": "Python 3",
   "language": "python",
   "name": "python3"
  },
  "language_info": {
   "codemirror_mode": {
    "name": "ipython",
    "version": 3
   },
   "file_extension": ".py",
   "mimetype": "text/x-python",
   "name": "python",
   "nbconvert_exporter": "python",
   "pygments_lexer": "ipython3",
   "version": "3.13.0"
  }
 },
 "nbformat": 4,
 "nbformat_minor": 2
}
