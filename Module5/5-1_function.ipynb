{
 "cells": [
  {
   "cell_type": "code",
   "execution_count": 5,
   "metadata": {},
   "outputs": [
    {
     "name": "stdout",
     "output_type": "stream",
     "text": [
      "Hello , John\n"
     ]
    }
   ],
   "source": [
    "# 建立 function 1\n",
    "def first_hello(name=\"Acer\"):\n",
    "    print(f\"Hello , {name}\")\n",
    "\n",
    "first_hello(\"John\")"
   ]
  },
  {
   "cell_type": "code",
   "execution_count": 8,
   "metadata": {},
   "outputs": [],
   "source": [
    "# 建立 function 2\n",
    "\n"
   ]
  },
  {
   "cell_type": "code",
   "execution_count": null,
   "metadata": {},
   "outputs": [],
   "source": [
    "# 建立 function 3\n",
    "\n"
   ]
  },
  {
   "cell_type": "code",
   "execution_count": null,
   "metadata": {},
   "outputs": [],
   "source": [
    "# 建立 function 4\n",
    "\n"
   ]
  },
  {
   "cell_type": "markdown",
   "metadata": {},
   "source": [
    "-----"
   ]
  },
  {
   "cell_type": "code",
   "execution_count": 2,
   "metadata": {},
   "outputs": [
    {
     "name": "stdout",
     "output_type": "stream",
     "text": [
      "2300\n"
     ]
    }
   ],
   "source": [
    "# 改寫 Module2 practice\n",
    "\n",
    "def after_discount(total,discount):\n",
    "    if(total > 2000 ):\n",
    "        total -= discount\n",
    "    return total\n",
    "\n",
    "print(after_discount(2500,200))\n"
   ]
  },
  {
   "cell_type": "code",
   "execution_count": 3,
   "metadata": {},
   "outputs": [
    {
     "name": "stdout",
     "output_type": "stream",
     "text": [
      "Collecting pymysql\n",
      "  Downloading PyMySQL-1.1.1-py3-none-any.whl.metadata (4.4 kB)\n",
      "Downloading PyMySQL-1.1.1-py3-none-any.whl (44 kB)\n",
      "Installing collected packages: pymysql\n",
      "Successfully installed pymysql-1.1.1\n",
      "Note: you may need to restart the kernel to use updated packages.\n"
     ]
    }
   ],
   "source": [
    "%pip install pymysql"
   ]
  },
  {
   "cell_type": "code",
   "execution_count": 6,
   "metadata": {},
   "outputs": [
    {
     "name": "stdout",
     "output_type": "stream",
     "text": [
      "(('classicmodels',), ('information_schema',), ('my_database',), ('my_titanic',), ('my_train_titanic',), ('mysql',), ('performance_schema',), ('sakila',), ('servdb',), ('social_media_app',), ('sys',), ('transaction_test',), ('world',))\n"
     ]
    }
   ],
   "source": [
    "import pymysql\n",
    "\n",
    "connection = pymysql.connect(\n",
    "    host=\"localhost\",\n",
    "    user=\"root\",\n",
    "    password=\"P@ssw0rd\",\n",
    "    port=3306\n",
    ")\n",
    "with connection.cursor() as cursor:\n",
    "    cursor.execute(\"SHOW DATABASES;\") #()內放SQL指令\n",
    "    result = cursor.fetchall()\n",
    "\n",
    "print(result)"
   ]
  },
  {
   "cell_type": "code",
   "execution_count": 29,
   "metadata": {},
   "outputs": [
    {
     "name": "stdout",
     "output_type": "stream",
     "text": [
      "21\n",
      "Beckwith, Mr. Richard Leonard\n",
      "1.00\n",
      "443\n",
      "Hickman, Mr. Leonard Mark\n",
      "2.00\n",
      "473\n",
      "Kirkland, Rev. Charles Leonard\n",
      "2.00\n",
      "827\n",
      "Goodwin, Master. Sidney Leonard\n",
      "3.00\n",
      "1028\n",
      "Moore, Mr. Leonard Charles\n",
      "3.00\n",
      "1097\n",
      "Palsson, Master. Gosta Leonard\n",
      "3.00\n",
      "1240\n",
      "Theobald, Mr. Thomas Leonard\n",
      "3.00\n"
     ]
    }
   ],
   "source": [
    "from pprint import pprint\n",
    "def sql_query(database=None,sql=None):\n",
    "    import pymysql\n",
    "    connection = pymysql.connect(\n",
    "        host=\"localhost\",\n",
    "        user=\"root\",\n",
    "        password=\"P@ssw0rd\",\n",
    "        port=3306,\n",
    "        database = database,\n",
    "        cursorclass=pymysql.cursors.DictCursor\n",
    "    )\n",
    "    with connection.cursor() as cursor:\n",
    "        cursor.execute(sql) #()內放SQL指令\n",
    "        result = cursor.fetchall()\n",
    "\n",
    "    return result\n",
    "\n",
    "# databases = sql_query(sql = \"SHOW DATABASES;\")\n",
    "# pprint(databases)\n",
    "\n",
    "# tables = sql_query(\"my_titanic\",\"SHOW TABLES;\")\n",
    "# pprint(tables)\n",
    "\n",
    "datas = sql_query(\"my_titanic\",\"SELECT * FROM full_passengers\")\n",
    "# pprint(datas)\n",
    "\n",
    "for data in datas:\n",
    "    if 'Leonard' in data['pname'].split(',')[-1] and data['sex'] == 'male' :\n",
    "        print(data['id'])\n",
    "        print(data['pname'])\n",
    "        print(data['pclass'])\n",
    "        "
   ]
  }
 ],
 "metadata": {
  "kernelspec": {
   "display_name": "Python 3",
   "language": "python",
   "name": "python3"
  },
  "language_info": {
   "codemirror_mode": {
    "name": "ipython",
    "version": 3
   },
   "file_extension": ".py",
   "mimetype": "text/x-python",
   "name": "python",
   "nbconvert_exporter": "python",
   "pygments_lexer": "ipython3",
   "version": "3.13.0"
  }
 },
 "nbformat": 4,
 "nbformat_minor": 2
}
